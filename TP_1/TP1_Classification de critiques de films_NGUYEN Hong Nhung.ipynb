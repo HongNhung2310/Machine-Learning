{
 "cells": [
  {
   "cell_type": "code",
   "execution_count": 1,
   "id": "c30194dd",
   "metadata": {},
   "outputs": [],
   "source": [
    "#Importation les modules:\n",
    "\n",
    "import numpy as np\n",
    "import pandas as pd\n",
    "import pickle    \n",
    "import re\n",
    "import string"
   ]
  },
  {
   "cell_type": "markdown",
   "id": "19c5c5d2",
   "metadata": {},
   "source": [
    "# Importation des données"
   ]
  },
  {
   "cell_type": "code",
   "execution_count": 2,
   "id": "d244f811",
   "metadata": {},
   "outputs": [],
   "source": [
    "# Les critiques négatives\n",
    "\n",
    "neg = pd.read_pickle('./imdb_raw/imdb_raw_neg.pickle')\n",
    "\n",
    "#neg \n",
    "   "
   ]
  },
  {
   "cell_type": "code",
   "execution_count": 3,
   "id": "c1932475",
   "metadata": {
    "scrolled": false
   },
   "outputs": [],
   "source": [
    "# Les critiques positives\n",
    "\n",
    "pos = pd.read_pickle('./imdb_raw/imdb_raw_pos.pickle')\n",
    "\n",
    "#pos    "
   ]
  },
  {
   "cell_type": "markdown",
   "id": "56078410",
   "metadata": {},
   "source": [
    "# Nettoyage des données"
   ]
  },
  {
   "cell_type": "code",
   "execution_count": 4,
   "id": "4ccad761",
   "metadata": {},
   "outputs": [
    {
     "data": {
      "text/html": [
       "<div>\n",
       "<style scoped>\n",
       "    .dataframe tbody tr th:only-of-type {\n",
       "        vertical-align: middle;\n",
       "    }\n",
       "\n",
       "    .dataframe tbody tr th {\n",
       "        vertical-align: top;\n",
       "    }\n",
       "\n",
       "    .dataframe thead th {\n",
       "        text-align: right;\n",
       "    }\n",
       "</style>\n",
       "<table border=\"1\" class=\"dataframe\">\n",
       "  <thead>\n",
       "    <tr style=\"text-align: right;\">\n",
       "      <th></th>\n",
       "      <th>commentaires</th>\n",
       "      <th>valeur</th>\n",
       "    </tr>\n",
       "  </thead>\n",
       "  <tbody>\n",
       "    <tr>\n",
       "      <th>0</th>\n",
       "      <td>Once again Mr. Costner has dragged out a movie...</td>\n",
       "      <td>0</td>\n",
       "    </tr>\n",
       "    <tr>\n",
       "      <th>1</th>\n",
       "      <td>This is an example of why the majority of acti...</td>\n",
       "      <td>0</td>\n",
       "    </tr>\n",
       "    <tr>\n",
       "      <th>2</th>\n",
       "      <td>First of all I hate those moronic rappers, who...</td>\n",
       "      <td>0</td>\n",
       "    </tr>\n",
       "    <tr>\n",
       "      <th>3</th>\n",
       "      <td>Not even the Beatles could write songs everyon...</td>\n",
       "      <td>0</td>\n",
       "    </tr>\n",
       "    <tr>\n",
       "      <th>4</th>\n",
       "      <td>Brass pictures (movies is not a fitting word f...</td>\n",
       "      <td>0</td>\n",
       "    </tr>\n",
       "    <tr>\n",
       "      <th>...</th>\n",
       "      <td>...</td>\n",
       "      <td>...</td>\n",
       "    </tr>\n",
       "    <tr>\n",
       "      <th>12495</th>\n",
       "      <td>I occasionally let my kids watch this garbage ...</td>\n",
       "      <td>0</td>\n",
       "    </tr>\n",
       "    <tr>\n",
       "      <th>12496</th>\n",
       "      <td>When all we have anymore is pretty much realit...</td>\n",
       "      <td>0</td>\n",
       "    </tr>\n",
       "    <tr>\n",
       "      <th>12497</th>\n",
       "      <td>The basic genre is a thriller intercut with an...</td>\n",
       "      <td>0</td>\n",
       "    </tr>\n",
       "    <tr>\n",
       "      <th>12498</th>\n",
       "      <td>Four things intrigued me as to this film - fir...</td>\n",
       "      <td>0</td>\n",
       "    </tr>\n",
       "    <tr>\n",
       "      <th>12499</th>\n",
       "      <td>David Bryce's comments nearby are exceptionall...</td>\n",
       "      <td>0</td>\n",
       "    </tr>\n",
       "  </tbody>\n",
       "</table>\n",
       "<p>12500 rows × 2 columns</p>\n",
       "</div>"
      ],
      "text/plain": [
       "                                            commentaires  valeur\n",
       "0      Once again Mr. Costner has dragged out a movie...       0\n",
       "1      This is an example of why the majority of acti...       0\n",
       "2      First of all I hate those moronic rappers, who...       0\n",
       "3      Not even the Beatles could write songs everyon...       0\n",
       "4      Brass pictures (movies is not a fitting word f...       0\n",
       "...                                                  ...     ...\n",
       "12495  I occasionally let my kids watch this garbage ...       0\n",
       "12496  When all we have anymore is pretty much realit...       0\n",
       "12497  The basic genre is a thriller intercut with an...       0\n",
       "12498  Four things intrigued me as to this film - fir...       0\n",
       "12499  David Bryce's comments nearby are exceptionall...       0\n",
       "\n",
       "[12500 rows x 2 columns]"
      ]
     },
     "execution_count": 4,
     "metadata": {},
     "output_type": "execute_result"
    }
   ],
   "source": [
    "#Transformer la liste des critiques négatives en DataFrame et ajouter la valeur '0'\n",
    "\n",
    "df_neg = pd.DataFrame(neg,columns=['commentaires'])\n",
    "df_neg['valeur'] = 0\n",
    "df_neg\n"
   ]
  },
  {
   "cell_type": "code",
   "execution_count": 5,
   "id": "7bc99cfa",
   "metadata": {},
   "outputs": [
    {
     "data": {
      "text/html": [
       "<div>\n",
       "<style scoped>\n",
       "    .dataframe tbody tr th:only-of-type {\n",
       "        vertical-align: middle;\n",
       "    }\n",
       "\n",
       "    .dataframe tbody tr th {\n",
       "        vertical-align: top;\n",
       "    }\n",
       "\n",
       "    .dataframe thead th {\n",
       "        text-align: right;\n",
       "    }\n",
       "</style>\n",
       "<table border=\"1\" class=\"dataframe\">\n",
       "  <thead>\n",
       "    <tr style=\"text-align: right;\">\n",
       "      <th></th>\n",
       "      <th>commentaires</th>\n",
       "      <th>valeur</th>\n",
       "    </tr>\n",
       "  </thead>\n",
       "  <tbody>\n",
       "    <tr>\n",
       "      <th>0</th>\n",
       "      <td>I went and saw this movie last night after bei...</td>\n",
       "      <td>1</td>\n",
       "    </tr>\n",
       "    <tr>\n",
       "      <th>1</th>\n",
       "      <td>Actor turned director Bill Paxton follows up h...</td>\n",
       "      <td>1</td>\n",
       "    </tr>\n",
       "    <tr>\n",
       "      <th>2</th>\n",
       "      <td>As a recreational golfer with some knowledge o...</td>\n",
       "      <td>1</td>\n",
       "    </tr>\n",
       "    <tr>\n",
       "      <th>3</th>\n",
       "      <td>I saw this film in a sneak preview, and it is ...</td>\n",
       "      <td>1</td>\n",
       "    </tr>\n",
       "    <tr>\n",
       "      <th>4</th>\n",
       "      <td>Bill Paxton has taken the true story of the 19...</td>\n",
       "      <td>1</td>\n",
       "    </tr>\n",
       "    <tr>\n",
       "      <th>...</th>\n",
       "      <td>...</td>\n",
       "      <td>...</td>\n",
       "    </tr>\n",
       "    <tr>\n",
       "      <th>12495</th>\n",
       "      <td>I was extraordinarily impressed by this film. ...</td>\n",
       "      <td>1</td>\n",
       "    </tr>\n",
       "    <tr>\n",
       "      <th>12496</th>\n",
       "      <td>Although I'm not a golf fan, I attended a snea...</td>\n",
       "      <td>1</td>\n",
       "    </tr>\n",
       "    <tr>\n",
       "      <th>12497</th>\n",
       "      <td>From the start of \"The Edge Of Love\", the view...</td>\n",
       "      <td>1</td>\n",
       "    </tr>\n",
       "    <tr>\n",
       "      <th>12498</th>\n",
       "      <td>This movie, with all its complexity and subtle...</td>\n",
       "      <td>1</td>\n",
       "    </tr>\n",
       "    <tr>\n",
       "      <th>12499</th>\n",
       "      <td>I've seen this story before but my kids haven'...</td>\n",
       "      <td>1</td>\n",
       "    </tr>\n",
       "  </tbody>\n",
       "</table>\n",
       "<p>12500 rows × 2 columns</p>\n",
       "</div>"
      ],
      "text/plain": [
       "                                            commentaires  valeur\n",
       "0      I went and saw this movie last night after bei...       1\n",
       "1      Actor turned director Bill Paxton follows up h...       1\n",
       "2      As a recreational golfer with some knowledge o...       1\n",
       "3      I saw this film in a sneak preview, and it is ...       1\n",
       "4      Bill Paxton has taken the true story of the 19...       1\n",
       "...                                                  ...     ...\n",
       "12495  I was extraordinarily impressed by this film. ...       1\n",
       "12496  Although I'm not a golf fan, I attended a snea...       1\n",
       "12497  From the start of \"The Edge Of Love\", the view...       1\n",
       "12498  This movie, with all its complexity and subtle...       1\n",
       "12499  I've seen this story before but my kids haven'...       1\n",
       "\n",
       "[12500 rows x 2 columns]"
      ]
     },
     "execution_count": 5,
     "metadata": {},
     "output_type": "execute_result"
    }
   ],
   "source": [
    "#Transformer la liste des critiques positives en DataFrame et ajouter la valeur '1'\n",
    "\n",
    "df_pos = pd.DataFrame(pos,columns=['commentaires'])\n",
    "df_pos['valeur'] = 1\n",
    "df_pos "
   ]
  },
  {
   "cell_type": "code",
   "execution_count": 6,
   "id": "394dc25e",
   "metadata": {},
   "outputs": [
    {
     "data": {
      "text/html": [
       "<div>\n",
       "<style scoped>\n",
       "    .dataframe tbody tr th:only-of-type {\n",
       "        vertical-align: middle;\n",
       "    }\n",
       "\n",
       "    .dataframe tbody tr th {\n",
       "        vertical-align: top;\n",
       "    }\n",
       "\n",
       "    .dataframe thead th {\n",
       "        text-align: right;\n",
       "    }\n",
       "</style>\n",
       "<table border=\"1\" class=\"dataframe\">\n",
       "  <thead>\n",
       "    <tr style=\"text-align: right;\">\n",
       "      <th></th>\n",
       "      <th>commentaires</th>\n",
       "      <th>valeur</th>\n",
       "    </tr>\n",
       "  </thead>\n",
       "  <tbody>\n",
       "    <tr>\n",
       "      <th>0</th>\n",
       "      <td>I went and saw this movie last night after bei...</td>\n",
       "      <td>1</td>\n",
       "    </tr>\n",
       "    <tr>\n",
       "      <th>1</th>\n",
       "      <td>Actor turned director Bill Paxton follows up h...</td>\n",
       "      <td>1</td>\n",
       "    </tr>\n",
       "    <tr>\n",
       "      <th>2</th>\n",
       "      <td>As a recreational golfer with some knowledge o...</td>\n",
       "      <td>1</td>\n",
       "    </tr>\n",
       "    <tr>\n",
       "      <th>3</th>\n",
       "      <td>I saw this film in a sneak preview, and it is ...</td>\n",
       "      <td>1</td>\n",
       "    </tr>\n",
       "    <tr>\n",
       "      <th>4</th>\n",
       "      <td>Bill Paxton has taken the true story of the 19...</td>\n",
       "      <td>1</td>\n",
       "    </tr>\n",
       "    <tr>\n",
       "      <th>...</th>\n",
       "      <td>...</td>\n",
       "      <td>...</td>\n",
       "    </tr>\n",
       "    <tr>\n",
       "      <th>24995</th>\n",
       "      <td>I occasionally let my kids watch this garbage ...</td>\n",
       "      <td>0</td>\n",
       "    </tr>\n",
       "    <tr>\n",
       "      <th>24996</th>\n",
       "      <td>When all we have anymore is pretty much realit...</td>\n",
       "      <td>0</td>\n",
       "    </tr>\n",
       "    <tr>\n",
       "      <th>24997</th>\n",
       "      <td>The basic genre is a thriller intercut with an...</td>\n",
       "      <td>0</td>\n",
       "    </tr>\n",
       "    <tr>\n",
       "      <th>24998</th>\n",
       "      <td>Four things intrigued me as to this film - fir...</td>\n",
       "      <td>0</td>\n",
       "    </tr>\n",
       "    <tr>\n",
       "      <th>24999</th>\n",
       "      <td>David Bryce's comments nearby are exceptionall...</td>\n",
       "      <td>0</td>\n",
       "    </tr>\n",
       "  </tbody>\n",
       "</table>\n",
       "<p>25000 rows × 2 columns</p>\n",
       "</div>"
      ],
      "text/plain": [
       "                                            commentaires  valeur\n",
       "0      I went and saw this movie last night after bei...       1\n",
       "1      Actor turned director Bill Paxton follows up h...       1\n",
       "2      As a recreational golfer with some knowledge o...       1\n",
       "3      I saw this film in a sneak preview, and it is ...       1\n",
       "4      Bill Paxton has taken the true story of the 19...       1\n",
       "...                                                  ...     ...\n",
       "24995  I occasionally let my kids watch this garbage ...       0\n",
       "24996  When all we have anymore is pretty much realit...       0\n",
       "24997  The basic genre is a thriller intercut with an...       0\n",
       "24998  Four things intrigued me as to this film - fir...       0\n",
       "24999  David Bryce's comments nearby are exceptionall...       0\n",
       "\n",
       "[25000 rows x 2 columns]"
      ]
     },
     "execution_count": 6,
     "metadata": {},
     "output_type": "execute_result"
    }
   ],
   "source": [
    "#Concaténation 2 dataframe:\n",
    " \n",
    "critique =pd.concat([df_pos,df_neg], ignore_index = True)  \n",
    "critique\n"
   ]
  },
  {
   "cell_type": "code",
   "execution_count": 7,
   "id": "9fc41650",
   "metadata": {},
   "outputs": [],
   "source": [
    "# Preprocessing des données\n",
    "\n",
    "def text_preproc(x):\n",
    "    \n",
    "    x = x.lower()\n",
    "    x = ' '.join([word for word in x.split(' ') if word not in stop_words])\n",
    "    x = x.encode('ascii', 'ignore').decode()\n",
    "    x = re.sub(r'https*\\S+', ' ', x)\n",
    "    x = re.sub(r'@\\S+', ' ', x)\n",
    "    x = re.sub(r'#\\S+', ' ', x)\n",
    "    x = re.sub(r'\\'\\w+', '', x)\n",
    "    x = re.sub('[%s]' % re.escape(string.punctuation), ' ', x)\n",
    "    x = re.sub(r'\\w*\\d+\\w*', '', x)\n",
    "    x = re.sub(r'\\s{2,}', ' ', x)\n",
    "    \n",
    "    return x"
   ]
  },
  {
   "cell_type": "code",
   "execution_count": 8,
   "id": "ea3729a4",
   "metadata": {
    "scrolled": true
   },
   "outputs": [
    {
     "name": "stderr",
     "output_type": "stream",
     "text": [
      "[nltk_data] Downloading package stopwords to\n",
      "[nltk_data]     C:\\Users\\NGUYEN\\AppData\\Roaming\\nltk_data...\n",
      "[nltk_data]   Package stopwords is already up-to-date!\n"
     ]
    }
   ],
   "source": [
    "import nltk\n",
    "from nltk.corpus import stopwords\n",
    "\n",
    "nltk.download('stopwords')\n",
    "stop_words = stopwords.words('english')\n",
    "\n",
    "for word in critique['commentaires']:\n",
    "    if word in stop_words:\n",
    "        critique['commentaires'].remove(word)"
   ]
  },
  {
   "cell_type": "code",
   "execution_count": 9,
   "id": "00fb8023",
   "metadata": {},
   "outputs": [],
   "source": [
    "#Lire les données après la nettoyage \n",
    "\n",
    "data = critique['commentaires'].apply(text_preproc)"
   ]
  },
  {
   "cell_type": "markdown",
   "id": "8dda9daf",
   "metadata": {},
   "source": [
    "# Construction du modèle régression logistique"
   ]
  },
  {
   "cell_type": "code",
   "execution_count": 10,
   "id": "426d1b6a",
   "metadata": {},
   "outputs": [
    {
     "data": {
      "text/plain": [
       "<25000x72435 sparse matrix of type '<class 'numpy.int64'>'\n",
       "\twith 2532036 stored elements in Compressed Sparse Row format>"
      ]
     },
     "execution_count": 10,
     "metadata": {},
     "output_type": "execute_result"
    }
   ],
   "source": [
    "from sklearn.feature_extraction.text import CountVectorizer\n",
    "\n",
    "count_vect =  CountVectorizer()    #Initialiser le CountVectorizer\n",
    "\n",
    "#Transformer textes en vecteurs\n",
    "count_matrix = count_vect.fit_transform(data)\n",
    "count_matrix\n"
   ]
  },
  {
   "cell_type": "code",
   "execution_count": 11,
   "id": "3b58eeec",
   "metadata": {},
   "outputs": [],
   "source": [
    "#Construire X et Y:\n",
    "\n",
    "X = count_matrix        # variable explicative\n",
    "y = critique['valeur']    # variable à expiquer\n"
   ]
  },
  {
   "cell_type": "code",
   "execution_count": 12,
   "id": "0ae5841d",
   "metadata": {},
   "outputs": [],
   "source": [
    "#Diviser la base de données en 30% de test et 70% d'apprentissage \n",
    "\n",
    "from sklearn.model_selection import train_test_split\n",
    "\n",
    "X_train, X_test, y_train, y_test = train_test_split(X, y, test_size=0.3, random_state=30)"
   ]
  },
  {
   "cell_type": "code",
   "execution_count": 13,
   "id": "6ff56164",
   "metadata": {},
   "outputs": [
    {
     "name": "stderr",
     "output_type": "stream",
     "text": [
      "C:\\Users\\NGUYEN\\anaconda3\\lib\\site-packages\\sklearn\\linear_model\\_logistic.py:763: ConvergenceWarning: lbfgs failed to converge (status=1):\n",
      "STOP: TOTAL NO. of ITERATIONS REACHED LIMIT.\n",
      "\n",
      "Increase the number of iterations (max_iter) or scale the data as shown in:\n",
      "    https://scikit-learn.org/stable/modules/preprocessing.html\n",
      "Please also refer to the documentation for alternative solver options:\n",
      "    https://scikit-learn.org/stable/modules/linear_model.html#logistic-regression\n",
      "  n_iter_i = _check_optimize_result(\n"
     ]
    }
   ],
   "source": [
    "from sklearn.linear_model import LogisticRegression\n",
    "\n",
    "logreg = LogisticRegression(random_state=30) # Initialiser le modèle \n",
    "\n",
    "logreg.fit(X_train, y_train)      # Adapter le modèle avec des données\n",
    "\n",
    "y_pred = logreg.predict(X_test)\n"
   ]
  },
  {
   "cell_type": "markdown",
   "id": "17ab751f",
   "metadata": {},
   "source": [
    "# Evaluation les performances du modèle"
   ]
  },
  {
   "cell_type": "code",
   "execution_count": 14,
   "id": "0f47e796",
   "metadata": {},
   "outputs": [
    {
     "data": {
      "text/plain": [
       "0.9993142857142857"
      ]
     },
     "execution_count": 14,
     "metadata": {},
     "output_type": "execute_result"
    }
   ],
   "source": [
    "# Training score\n",
    "\n",
    "X_train_pred = logreg.predict(X_train)\n",
    "\n",
    "from sklearn.metrics import accuracy_score\n",
    "training_score = accuracy_score(y_train, X_train_pred )\n",
    "training_score"
   ]
  },
  {
   "cell_type": "code",
   "execution_count": 15,
   "id": "4af89552",
   "metadata": {},
   "outputs": [
    {
     "data": {
      "text/plain": [
       "0.8801333333333333"
      ]
     },
     "execution_count": 15,
     "metadata": {},
     "output_type": "execute_result"
    }
   ],
   "source": [
    "# Testing score\n",
    "\n",
    "X_test_pred = logreg.predict(X_test)\n",
    "\n",
    "test_score = accuracy_score(y_test, X_test_pred)\n",
    "test_score"
   ]
  },
  {
   "cell_type": "code",
   "execution_count": 16,
   "id": "a4a1a4b3",
   "metadata": {},
   "outputs": [
    {
     "data": {
      "text/plain": [
       "array([[3282,  464],\n",
       "       [ 435, 3319]], dtype=int64)"
      ]
     },
     "execution_count": 16,
     "metadata": {},
     "output_type": "execute_result"
    }
   ],
   "source": [
    "# Matrice de confusion\n",
    "\n",
    "from sklearn import metrics\n",
    "\n",
    "confusion_matrix = metrics.confusion_matrix(y_test, y_pred)\n",
    "confusion_matrix\n"
   ]
  },
  {
   "cell_type": "code",
   "execution_count": 17,
   "id": "84b926c6",
   "metadata": {
    "scrolled": false
   },
   "outputs": [
    {
     "data": {
      "text/plain": [
       "Text(0.5, 257.44, 'Predicted label')"
      ]
     },
     "execution_count": 17,
     "metadata": {},
     "output_type": "execute_result"
    },
    {
     "data": {
      "image/png": "[encoded data removed]",
      "text/plain": [
       "<Figure size 432x288 with 2 Axes>"
      ]
     },
     "metadata": {
      "needs_background": "light"
     },
     "output_type": "display_data"
    }
   ],
   "source": [
    "import matplotlib.pyplot as plt\n",
    "import seaborn as sns\n",
    "\n",
    "class_names=['Négatif', 'Positif']\n",
    "fig, ax = plt.subplots()\n",
    "tick_marks = np.arange(len(class_names))\n",
    "plt.xticks(tick_marks, class_names)\n",
    "plt.yticks(tick_marks, class_names)\n",
    "\n",
    "#Création heatmap\n",
    "sns.heatmap(confusion_matrix/np.sum(confusion_matrix),annot=True,fmt='.2%', cmap=\"YlGnBu\")\n",
    "ax.xaxis.set_label_position(\"top\")\n",
    "plt.tight_layout()\n",
    "plt.title('Confusion matrix', y=1.1)\n",
    "plt.ylabel('Actual label')\n",
    "plt.xlabel('Predicted label')\n"
   ]
  },
  {
   "cell_type": "markdown",
   "id": "15b0c86e",
   "metadata": {},
   "source": [
    "\n",
    "    Selon le graphique, on peut constater que\n",
    "    - Il y a 88,01% de vrais prédictions dont 43,76% de vrais négatives et 44,25% de vrais positives. \n",
    "    - Il y a 11,99% de faux prédictions dont 5,80% de faux négatives et 6,19% de faux positives."
   ]
  },
  {
   "cell_type": "code",
   "execution_count": 18,
   "id": "24ec906d",
   "metadata": {},
   "outputs": [
    {
     "name": "stdout",
     "output_type": "stream",
     "text": [
      "              precision    recall  f1-score   support\n",
      "\n",
      "           0       0.88      0.88      0.88      3746\n",
      "           1       0.88      0.88      0.88      3754\n",
      "\n",
      "    accuracy                           0.88      7500\n",
      "   macro avg       0.88      0.88      0.88      7500\n",
      "weighted avg       0.88      0.88      0.88      7500\n",
      "\n"
     ]
    }
   ],
   "source": [
    "#Classification_report\n",
    "\n",
    "from sklearn.metrics import classification_report\n",
    "print(classification_report(y_test, y_pred))\n"
   ]
  },
  {
   "cell_type": "markdown",
   "id": "e3956997",
   "metadata": {},
   "source": [
    "\n",
    "D'après le résultat, on peut noter que la précision de la classification est bonne avec 88% \n",
    "  \n",
    "  \n",
    "  "
   ]
  },
  {
   "cell_type": "code",
   "execution_count": 19,
   "id": "7c08f7d7",
   "metadata": {},
   "outputs": [
    {
     "data": {
      "image/png": "[encoded data removed]",
      "text/plain": [
       "<Figure size 432x288 with 1 Axes>"
      ]
     },
     "metadata": {
      "needs_background": "light"
     },
     "output_type": "display_data"
    }
   ],
   "source": [
    "# ROC Curve\n",
    "\n",
    "from sklearn.metrics import roc_auc_score\n",
    "\n",
    "y_pred_proba = logreg.predict_proba(X_test)[::,1]\n",
    "fpr, tpr, _ = metrics.roc_curve(y_test,  y_pred_proba)\n",
    "auc = roc_auc_score(y_test, y_pred_proba)\n",
    "plt.plot(fpr,tpr,label=\"Logistic Regression, AUC=\"+str(auc))\n",
    "plt.legend(loc=4)\n",
    "plt.show()"
   ]
  },
  {
   "cell_type": "markdown",
   "id": "9239411b",
   "metadata": {},
   "source": [
    "\n",
    "    AUC score qui est égal à 1 représente une bonne classification. AUC score qui est égal à 0,5 représente une mauvaise \n",
    "    classification.\n",
    "    Ici, le AUC score est égal à 0,95. Cela signifie que c'est une bonne classification."
   ]
  },
  {
   "cell_type": "markdown",
   "id": "40d13552",
   "metadata": {},
   "source": [
    "# Les 10 mots qui ont le plus de poids dans la prise de décision du modèle"
   ]
  },
  {
   "cell_type": "code",
   "execution_count": 20,
   "id": "09216876",
   "metadata": {},
   "outputs": [
    {
     "data": {
      "text/plain": [
       "array([[0.03573019, 0.06782299, 0.        , ..., 0.00258452, 0.        ,\n",
       "        0.09911135]])"
      ]
     },
     "execution_count": 20,
     "metadata": {},
     "output_type": "execute_result"
    }
   ],
   "source": [
    "#Sortir les coefficients du modèles en  valeur absolue\n",
    "\n",
    "beta = abs(logreg.coef_)\n",
    "beta"
   ]
  },
  {
   "cell_type": "code",
   "execution_count": 21,
   "id": "721a477a",
   "metadata": {},
   "outputs": [
    {
     "data": {
      "text/plain": [
       "array([[0.        , 0.        , 0.        , ..., 1.89160855, 2.39962883,\n",
       "        2.62363095]])"
      ]
     },
     "execution_count": 21,
     "metadata": {},
     "output_type": "execute_result"
    }
   ],
   "source": [
    "# Trier les coefficients par ordre croissant\n",
    "\n",
    "beta.sort()\n",
    "beta"
   ]
  },
  {
   "cell_type": "code",
   "execution_count": 22,
   "id": "8fb7d568",
   "metadata": {},
   "outputs": [
    {
     "data": {
      "text/plain": [
       "array([2.62363095, 2.39962883, 1.89160855, ..., 0.        , 0.        ,\n",
       "       0.        ])"
      ]
     },
     "execution_count": 22,
     "metadata": {},
     "output_type": "execute_result"
    }
   ],
   "source": [
    "# Trier les coefficients par ordre décroissant\n",
    "\n",
    "beta_des = beta[0][::-1]\n",
    "beta_des"
   ]
  },
  {
   "cell_type": "code",
   "execution_count": 23,
   "id": "843c9209",
   "metadata": {},
   "outputs": [
    {
     "data": {
      "text/plain": [
       "array([72434, 65916, 65915, 65914, 65913, 65912, 65911, 65910, 65909,\n",
       "       65908], dtype=int64)"
      ]
     },
     "execution_count": 23,
     "metadata": {},
     "output_type": "execute_result"
    }
   ],
   "source": [
    "#Renvoyer les indices des 10 coefficients les plus grands dans \"béta_des\"\n",
    "\n",
    "idx_top_10 = np.argsort(beta_des)[:10]\n",
    "idx_top_10"
   ]
  },
  {
   "cell_type": "code",
   "execution_count": 24,
   "id": "7bdbc127",
   "metadata": {},
   "outputs": [
    {
     "data": {
      "text/plain": [
       "[72434, 65916, 65915, 65914, 65913, 65912, 65911, 65910, 65909, 65908]"
      ]
     },
     "execution_count": 24,
     "metadata": {},
     "output_type": "execute_result"
    }
   ],
   "source": [
    "#Créer la liste des indices:\n",
    "\n",
    "idx_list = []\n",
    "for i in idx_top_10:\n",
    "    \n",
    "    idx_list.append(i)\n",
    "idx_list\n"
   ]
  },
  {
   "cell_type": "code",
   "execution_count": 25,
   "id": "7168b579",
   "metadata": {},
   "outputs": [
    {
     "data": {
      "text/plain": [
       "['zzzzzzzzzzzzzzzzzz',\n",
       " 'trinitron',\n",
       " 'trinitarian',\n",
       " 'trinidad',\n",
       " 'trinians',\n",
       " 'trinian',\n",
       " 'tringtignat',\n",
       " 'tringtignant',\n",
       " 'trine',\n",
       " 'trinder']"
      ]
     },
     "execution_count": 25,
     "metadata": {},
     "output_type": "execute_result"
    }
   ],
   "source": [
    "#Récupérer les 10 mots que ces indices impliquent\n",
    "\n",
    "top_10_words = []\n",
    "for j in idx_list :\n",
    "    top_10_words.append(list(count_vect.vocabulary_.keys())[list(count_vect.vocabulary_.values()).index(j)])\n",
    "top_10_words      \n",
    "        "
   ]
  },
  {
   "cell_type": "markdown",
   "id": "f5b825b4",
   "metadata": {},
   "source": [
    "# Amélioration du modèle"
   ]
  },
  {
   "cell_type": "code",
   "execution_count": null,
   "id": "e6ce04ed",
   "metadata": {},
   "outputs": [],
   "source": [
    "from sklearn import linear_model, decomposition\n",
    "from sklearn.pipeline import Pipeline\n",
    "from sklearn.model_selection import GridSearchCV\n",
    "from sklearn.preprocessing import StandardScaler\n",
    "\n",
    "std_slc = StandardScaler()\n",
    "pca = decomposition.PCA()\n",
    "pipe = Pipeline(steps=[('std_slc', std_slc),\n",
    "                           ('pca', pca),\n",
    "                           ('logreg', logreg)])\n",
    "n_components = list(range(1,X.shape[1]+1,1))\n",
    "C = np.logspace(-4, 4, 50)\n",
    "penalty = ['l1', 'l2']\n",
    "parameters = dict(pca__n_components=n_components,\n",
    "                      logreg__C=C,\n",
    "                      logreg__penalty=penalty)\n",
    "clf_GS = GridSearchCV(pipe, parameters)\n",
    "clf_GS.fit(X, y)\n",
    "\n",
    "CV_Result = cros_val_score(clf,X,y,cv=4,n_jobs = -1)\n",
    "print(); print(CV_result)"
   ]
  }
 ],
 "metadata": {
  "kernelspec": {
   "display_name": "Python 3",
   "language": "python",
   "name": "python3"
  },
  "language_info": {
   "codemirror_mode": {
    "name": "ipython",
    "version": 3
   },
   "file_extension": ".py",
   "mimetype": "text/x-python",
   "name": "python",
   "nbconvert_exporter": "python",
   "pygments_lexer": "ipython3",
   "version": "3.8.8"
  }
 },
 "nbformat": 4,
 "nbformat_minor": 5
}
